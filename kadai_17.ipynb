{
  "nbformat": 4,
  "nbformat_minor": 0,
  "metadata": {
    "colab": {
      "provenance": [],
      "authorship_tag": "ABX9TyPzlml5wmJJBoWcIL+nsOJr",
      "include_colab_link": true
    },
    "kernelspec": {
      "name": "python3",
      "display_name": "Python 3"
    },
    "language_info": {
      "name": "python"
    }
  },
  "cells": [
    {
      "cell_type": "markdown",
      "metadata": {
        "id": "view-in-github",
        "colab_type": "text"
      },
      "source": [
        "<a href=\"https://colab.research.google.com/github/wakooota/-wakooota-SQL-kadai_008/blob/main/kadai_17.ipynb\" target=\"_parent\"><img src=\"https://colab.research.google.com/assets/colab-badge.svg\" alt=\"Open In Colab\"/></a>"
      ]
    },
    {
      "cell_type": "code",
      "execution_count": 9,
      "metadata": {
        "colab": {
          "base_uri": "https://localhost:8080/"
        },
        "id": "jF3aVvPJRMNy",
        "outputId": "e30a943d-f829-43a0-dfef-0dbcbaa386f7"
      },
      "outputs": [
        {
          "output_type": "stream",
          "name": "stdout",
          "text": [
            "若林は30なので大人です。\n",
            "田中は10なので大人ではありません。\n"
          ]
        }
      ],
      "source": [
        "#名前と年齢の属性を持つHumanクラスを作成\n",
        "class Human:\n",
        "  def __init__(self):\n",
        "    self.name = \"\"\n",
        "    self.age =\"\"\n",
        "\n",
        "#nameとageを登録するメソッド文（定義文）を作成\n",
        "  def set_name_and_age(self, name, age):\n",
        "    self.name = name\n",
        "    self.age = age\n",
        "\n",
        "#\"ageが20以上の場合に大人であること\"、\"そうでない場合に大人でないこと\"を標準出力するメソッド文（定義文）を作成\n",
        "  def check_adult(self):\n",
        "      if self.age >= 20:\n",
        "        print(f\"{self.name}は{self.age}なので大人です。\")\n",
        "      else:\n",
        "        print(f\"{self.name}は{self.age}なので大人ではありません。\")\n",
        "\n",
        "#Humanクラスのインスタンスを複数生成\n",
        "wakabayashi = Human()\n",
        "tanaka = Human()\n",
        "\n",
        "#setメソッドにアクセスして、インスタンスにnameとageの情報を追加\n",
        "wakabayashi.set_name_and_age(\"若林\", 30)\n",
        "tanaka.set_name_and_age(\"田中\", 10)\n",
        "\n",
        "#リストを作成\n",
        "Humans = [wakabayashi, tanaka]\n",
        "\n",
        "#リストの要素数分だけcheck_adultメソッドを呼び出し\n",
        "for Human in Humans:\n",
        "    Human.check_adult()"
      ]
    },
    {
      "cell_type": "code",
      "source": [
        "#名前と年齢の属性を持つHumanクラスを作成\n",
        "class Human:\n",
        "  def __init__(self, name, age):\n",
        "    self.name = name\n",
        "    self.age = age\n",
        "\n",
        "#\"ageが20以上の場合に大人であること\"、\"そうでない場合に大人でないこと\"を標準出力するメソッド文（定義文）を作成\n",
        "  def check_adult(self):\n",
        "      if self.age >= 20:\n",
        "        print(f\"{self.name}は{self.age}なので大人です。\")\n",
        "      else:\n",
        "        print(f\"{self.name}は{self.age}なので大人ではありません。\")\n",
        "\n",
        "#コンストラクタでインスタンス化\n",
        "wakabayashi = Human(\"若林\", 30)\n",
        "tanaka = Human(\"田中\", 10)\n",
        "\n",
        "#リストを作成\n",
        "Humans = [wakabayashi, tanaka]\n",
        "\n",
        "#リストの要素数分だけcheck_adultメソッドを呼び出し\n",
        "for Human in Humans:\n",
        "    Human.check_adult()"
      ],
      "metadata": {
        "colab": {
          "base_uri": "https://localhost:8080/"
        },
        "id": "3P4HQj7y5uEz",
        "outputId": "1dc902e5-6bea-4467-823c-1ece88b1f8ed"
      },
      "execution_count": 10,
      "outputs": [
        {
          "output_type": "stream",
          "name": "stdout",
          "text": [
            "若林は30なので大人です。\n",
            "田中は10なので大人ではありません。\n"
          ]
        }
      ]
    }
  ]
}